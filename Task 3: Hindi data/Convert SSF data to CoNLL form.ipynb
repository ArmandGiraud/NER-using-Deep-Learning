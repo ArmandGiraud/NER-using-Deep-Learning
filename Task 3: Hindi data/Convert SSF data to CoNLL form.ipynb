{
 "cells": [
  {
   "cell_type": "code",
   "execution_count": 5,
   "metadata": {
    "collapsed": true
   },
   "outputs": [],
   "source": [
    "import glob\n",
    "import codecs"
   ]
  },
  {
   "cell_type": "code",
   "execution_count": 6,
   "metadata": {
    "collapsed": true
   },
   "outputs": [],
   "source": [
    "hindi_filenames = sorted(glob.glob(\"../data/training-hindi/*utf8\"))"
   ]
  },
  {
   "cell_type": "code",
   "execution_count": 9,
   "metadata": {
    "collapsed": true
   },
   "outputs": [],
   "source": [
    "output_file = codecs.open('../data/training_hindi_NER.utf8','w')"
   ]
  },
  {
   "cell_type": "code",
   "execution_count": 10,
   "metadata": {
    "collapsed": false
   },
   "outputs": [
    {
     "name": "stderr",
     "output_type": "stream",
     "text": [
      "/home/divesh_pandey/anaconda2/envs/keras_tensorflow/lib/python2.7/site-packages/ipykernel/__main__.py:12: UnicodeWarning: Unicode equal comparison failed to convert both arguments to Unicode - interpreting them as being unequal\n"
     ]
    },
    {
     "name": "stdout",
     "output_type": "stream",
     "text": [
      "10 शनैः - शनैः\n"
     ]
    }
   ],
   "source": [
    "for file_name in hindi_filenames:\n",
    "    file = codecs.open(file_name,'r')\n",
    "    status = False\n",
    "    flag = 0\n",
    "    for line in file:\n",
    "        if flag==0:\n",
    "            if line == \"\\n\":\n",
    "                flag=1\n",
    "            continue\n",
    "        if line[0]==u'<' and line[-2]==u'>':\n",
    "            pass\n",
    "        elif len(line)>2 and line[-2]==u')' and line[-3]==u')':\n",
    "            pass\n",
    "        elif line[0]==u'0':\n",
    "            pass\n",
    "        else:\n",
    "            line = line.strip().split()\n",
    "            if len(line) == 2:\n",
    "                output_file.write(line[1])\n",
    "                if status:\n",
    "                    output_file.write(\"\\t\" + entity)\n",
    "                    status = False\n",
    "                else:\n",
    "                    output_file.write(\"\\tO\")\n",
    "                output_file.write(\"\\n\")\n",
    "            elif len(line) == 4:\n",
    "                status = True\n",
    "                try:\n",
    "                    entity = line[-1].split(\"=\")[1][:-1]\n",
    "                except:\n",
    "                    print \" \".join(line)\n",
    "            else:\n",
    "                output_file.write(\"\\n\")"
   ]
  }
 ],
 "metadata": {
  "anaconda-cloud": {},
  "kernelspec": {
   "display_name": "Python [conda env:keras_tensorflow]",
   "language": "python",
   "name": "conda-env-keras_tensorflow-py"
  },
  "language_info": {
   "codemirror_mode": {
    "name": "ipython",
    "version": 2
   },
   "file_extension": ".py",
   "mimetype": "text/x-python",
   "name": "python",
   "nbconvert_exporter": "python",
   "pygments_lexer": "ipython2",
   "version": "2.7.13"
  }
 },
 "nbformat": 4,
 "nbformat_minor": 1
}
