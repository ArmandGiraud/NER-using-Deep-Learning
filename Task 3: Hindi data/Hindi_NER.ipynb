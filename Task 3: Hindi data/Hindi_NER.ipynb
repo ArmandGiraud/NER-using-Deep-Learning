{
 "cells": [
  {
   "cell_type": "code",
   "execution_count": 1,
   "metadata": {
    "collapsed": false
   },
   "outputs": [
    {
     "name": "stderr",
     "output_type": "stream",
     "text": [
      "Using TensorFlow backend.\n"
     ]
    }
   ],
   "source": [
    "from process_data import DataHandler"
   ]
  },
  {
   "cell_type": "code",
   "execution_count": 2,
   "metadata": {
    "collapsed": false
   },
   "outputs": [],
   "source": [
    "s = DataHandler(\"../data/training_hindi_NER.utf8\")"
   ]
  },
  {
   "cell_type": "code",
   "execution_count": 3,
   "metadata": {
    "collapsed": false
   },
   "outputs": [
    {
     "data": {
      "text/plain": [
       "(4501, 191, 50)"
      ]
     },
     "execution_count": 3,
     "metadata": {},
     "output_type": "execute_result"
    }
   ],
   "source": [
    "s.get_data()[0].shape"
   ]
  },
  {
   "cell_type": "code",
   "execution_count": 4,
   "metadata": {
    "collapsed": false
   },
   "outputs": [],
   "source": [
    "from NER_model import NER"
   ]
  },
  {
   "cell_type": "code",
   "execution_count": 5,
   "metadata": {
    "collapsed": true
   },
   "outputs": [],
   "source": [
    "m = NER(s)"
   ]
  },
  {
   "cell_type": "code",
   "execution_count": 6,
   "metadata": {
    "collapsed": false
   },
   "outputs": [
    {
     "name": "stdout",
     "output_type": "stream",
     "text": [
      "____________________________________________________________________________________________________\n",
      "Layer (type)                     Output Shape          Param #     Connected to                     \n",
      "====================================================================================================\n",
      "bidirectional_1 (Bidirectional)  (None, 191, 300)      241200      bidirectional_input_1[0][0]      \n",
      "____________________________________________________________________________________________________\n",
      "timedistributed_1 (TimeDistribut (None, 191, 12)       3612        bidirectional_1[0][0]            \n",
      "____________________________________________________________________________________________________\n",
      "dropout_1 (Dropout)              (None, 191, 12)       0           timedistributed_1[0][0]          \n",
      "====================================================================================================\n",
      "Total params: 244,812\n",
      "Trainable params: 244,812\n",
      "Non-trainable params: 0\n",
      "____________________________________________________________________________________________________\n",
      "None\n"
     ]
    }
   ],
   "source": [
    "m.make_and_compile()"
   ]
  },
  {
   "cell_type": "code",
   "execution_count": 7,
   "metadata": {
    "collapsed": false
   },
   "outputs": [
    {
     "name": "stdout",
     "output_type": "stream",
     "text": [
      "Epoch 1/10\n",
      "3615/3615 [==============================] - 47s - loss: 3.3680 - acc: 0.7882    \n",
      "Epoch 2/10\n",
      "3615/3615 [==============================] - 41s - loss: 3.2641 - acc: 0.7951    \n",
      "Epoch 3/10\n",
      "3615/3615 [==============================] - 40s - loss: 3.2519 - acc: 0.7956    \n",
      "Epoch 4/10\n",
      "3615/3615 [==============================] - 41s - loss: 3.2480 - acc: 0.7957    \n",
      "Epoch 5/10\n",
      "3615/3615 [==============================] - 41s - loss: 3.2443 - acc: 0.7959    \n",
      "Epoch 6/10\n",
      "3615/3615 [==============================] - 41s - loss: 3.2347 - acc: 0.7966    \n",
      "Epoch 7/10\n",
      "3615/3615 [==============================] - 41s - loss: 3.2407 - acc: 0.7962    \n",
      "Epoch 8/10\n",
      "3615/3615 [==============================] - 40s - loss: 3.2370 - acc: 0.7965    \n",
      "Epoch 9/10\n",
      "3615/3615 [==============================] - 40s - loss: 3.2586 - acc: 0.7951    \n",
      "Epoch 10/10\n",
      "3615/3615 [==============================] - 40s - loss: 3.2548 - acc: 0.7954    \n"
     ]
    }
   ],
   "source": [
    "# m.train()\n",
    "m.train(epochs=10)"
   ]
  },
  {
   "cell_type": "code",
   "execution_count": 8,
   "metadata": {
    "collapsed": false
   },
   "outputs": [
    {
     "name": "stderr",
     "output_type": "stream",
     "text": [
      "/home/divesh_pandey/anaconda2/envs/keras_tensorflow/lib/python2.7/site-packages/sklearn/metrics/classification.py:1113: UndefinedMetricWarning: Precision and F-score are ill-defined and being set to 0.0 in labels with no predicted samples.\n",
      "  'precision', 'predicted', average, warn_for)\n"
     ]
    },
    {
     "name": "stdout",
     "output_type": "stream",
     "text": [
      "             precision    recall  f1-score   support\n",
      "\n",
      "        NEA       0.00      0.00      0.00         8\n",
      "        NED       0.00      0.00      0.00        36\n",
      "        NEL       0.62      0.16      0.26       191\n",
      "        NEM       0.00      0.00      0.00        24\n",
      "        NEN       0.61      0.22      0.32       195\n",
      "        NEO       0.00      0.00      0.00        32\n",
      "        NEP       0.57      0.18      0.27       177\n",
      "       NETE       0.00      0.00      0.00       159\n",
      "       NETI       0.00      0.00      0.00        67\n",
      "       NETO       0.00      0.00      0.00        40\n",
      "          O       1.00      1.00      1.00    168297\n",
      "\n",
      "avg / total       0.99      0.99      0.99    169226\n",
      "\n",
      "['NEA', 'NED', 'NEL', 'NEM', 'NEN', 'NEO', 'NEP', 'NETE', 'NETI', 'NETO', 'O'] 11\n",
      "[[     0      0      0      0      0      0      0      0      0      0\n",
      "       8]\n",
      " [     0      0      0      0      0      0      2      0      0      0\n",
      "      34]\n",
      " [     0      0     31      0      0      0      3      0      0      0\n",
      "     157]\n",
      " [     0      0      0      0      1      0      0      0      0      0\n",
      "      23]\n",
      " [     0      0      0      0     43      0      0      0      0      0\n",
      "     152]\n",
      " [     0      0      1      0      0      0      0      0      0      0\n",
      "      31]\n",
      " [     0      0      0      0      0      0     31      0      0      0\n",
      "     146]\n",
      " [     0      0      0      0      0      0      1      0      0      0\n",
      "     158]\n",
      " [     0      0      6      0      1      0      0      0      0      0\n",
      "      60]\n",
      " [     0      0      0      0      1      0      3      0      0      0\n",
      "      36]\n",
      " [     0      0     12      0     25      0     14      0      0      0\n",
      "  168246]]\n"
     ]
    },
    {
     "data": {
      "text/html": [
       "<div>\n",
       "<table border=\"1\" class=\"dataframe\">\n",
       "  <thead>\n",
       "    <tr style=\"text-align: right;\">\n",
       "      <th></th>\n",
       "      <th>NEA</th>\n",
       "      <th>NED</th>\n",
       "      <th>NEL</th>\n",
       "      <th>NEM</th>\n",
       "      <th>NEN</th>\n",
       "      <th>NEO</th>\n",
       "      <th>NEP</th>\n",
       "      <th>NETE</th>\n",
       "      <th>NETI</th>\n",
       "      <th>NETO</th>\n",
       "      <th>O</th>\n",
       "    </tr>\n",
       "  </thead>\n",
       "  <tbody>\n",
       "    <tr>\n",
       "      <th>NEA</th>\n",
       "      <td>0</td>\n",
       "      <td>0</td>\n",
       "      <td>0</td>\n",
       "      <td>0</td>\n",
       "      <td>0</td>\n",
       "      <td>0</td>\n",
       "      <td>0</td>\n",
       "      <td>0</td>\n",
       "      <td>0</td>\n",
       "      <td>0</td>\n",
       "      <td>8</td>\n",
       "    </tr>\n",
       "    <tr>\n",
       "      <th>NED</th>\n",
       "      <td>0</td>\n",
       "      <td>0</td>\n",
       "      <td>0</td>\n",
       "      <td>0</td>\n",
       "      <td>0</td>\n",
       "      <td>0</td>\n",
       "      <td>2</td>\n",
       "      <td>0</td>\n",
       "      <td>0</td>\n",
       "      <td>0</td>\n",
       "      <td>34</td>\n",
       "    </tr>\n",
       "    <tr>\n",
       "      <th>NEL</th>\n",
       "      <td>0</td>\n",
       "      <td>0</td>\n",
       "      <td>31</td>\n",
       "      <td>0</td>\n",
       "      <td>0</td>\n",
       "      <td>0</td>\n",
       "      <td>3</td>\n",
       "      <td>0</td>\n",
       "      <td>0</td>\n",
       "      <td>0</td>\n",
       "      <td>157</td>\n",
       "    </tr>\n",
       "    <tr>\n",
       "      <th>NEM</th>\n",
       "      <td>0</td>\n",
       "      <td>0</td>\n",
       "      <td>0</td>\n",
       "      <td>0</td>\n",
       "      <td>1</td>\n",
       "      <td>0</td>\n",
       "      <td>0</td>\n",
       "      <td>0</td>\n",
       "      <td>0</td>\n",
       "      <td>0</td>\n",
       "      <td>23</td>\n",
       "    </tr>\n",
       "    <tr>\n",
       "      <th>NEN</th>\n",
       "      <td>0</td>\n",
       "      <td>0</td>\n",
       "      <td>0</td>\n",
       "      <td>0</td>\n",
       "      <td>43</td>\n",
       "      <td>0</td>\n",
       "      <td>0</td>\n",
       "      <td>0</td>\n",
       "      <td>0</td>\n",
       "      <td>0</td>\n",
       "      <td>152</td>\n",
       "    </tr>\n",
       "    <tr>\n",
       "      <th>NEO</th>\n",
       "      <td>0</td>\n",
       "      <td>0</td>\n",
       "      <td>1</td>\n",
       "      <td>0</td>\n",
       "      <td>0</td>\n",
       "      <td>0</td>\n",
       "      <td>0</td>\n",
       "      <td>0</td>\n",
       "      <td>0</td>\n",
       "      <td>0</td>\n",
       "      <td>31</td>\n",
       "    </tr>\n",
       "    <tr>\n",
       "      <th>NEP</th>\n",
       "      <td>0</td>\n",
       "      <td>0</td>\n",
       "      <td>0</td>\n",
       "      <td>0</td>\n",
       "      <td>0</td>\n",
       "      <td>0</td>\n",
       "      <td>31</td>\n",
       "      <td>0</td>\n",
       "      <td>0</td>\n",
       "      <td>0</td>\n",
       "      <td>146</td>\n",
       "    </tr>\n",
       "    <tr>\n",
       "      <th>NETE</th>\n",
       "      <td>0</td>\n",
       "      <td>0</td>\n",
       "      <td>0</td>\n",
       "      <td>0</td>\n",
       "      <td>0</td>\n",
       "      <td>0</td>\n",
       "      <td>1</td>\n",
       "      <td>0</td>\n",
       "      <td>0</td>\n",
       "      <td>0</td>\n",
       "      <td>158</td>\n",
       "    </tr>\n",
       "    <tr>\n",
       "      <th>NETI</th>\n",
       "      <td>0</td>\n",
       "      <td>0</td>\n",
       "      <td>6</td>\n",
       "      <td>0</td>\n",
       "      <td>1</td>\n",
       "      <td>0</td>\n",
       "      <td>0</td>\n",
       "      <td>0</td>\n",
       "      <td>0</td>\n",
       "      <td>0</td>\n",
       "      <td>60</td>\n",
       "    </tr>\n",
       "    <tr>\n",
       "      <th>NETO</th>\n",
       "      <td>0</td>\n",
       "      <td>0</td>\n",
       "      <td>0</td>\n",
       "      <td>0</td>\n",
       "      <td>1</td>\n",
       "      <td>0</td>\n",
       "      <td>3</td>\n",
       "      <td>0</td>\n",
       "      <td>0</td>\n",
       "      <td>0</td>\n",
       "      <td>36</td>\n",
       "    </tr>\n",
       "    <tr>\n",
       "      <th>O</th>\n",
       "      <td>0</td>\n",
       "      <td>0</td>\n",
       "      <td>12</td>\n",
       "      <td>0</td>\n",
       "      <td>25</td>\n",
       "      <td>0</td>\n",
       "      <td>14</td>\n",
       "      <td>0</td>\n",
       "      <td>0</td>\n",
       "      <td>0</td>\n",
       "      <td>168246</td>\n",
       "    </tr>\n",
       "  </tbody>\n",
       "</table>\n",
       "</div>"
      ],
      "text/plain": [
       "      NEA  NED  NEL  NEM  NEN  NEO  NEP  NETE  NETI  NETO       O\n",
       "NEA     0    0    0    0    0    0    0     0     0     0       8\n",
       "NED     0    0    0    0    0    0    2     0     0     0      34\n",
       "NEL     0    0   31    0    0    0    3     0     0     0     157\n",
       "NEM     0    0    0    0    1    0    0     0     0     0      23\n",
       "NEN     0    0    0    0   43    0    0     0     0     0     152\n",
       "NEO     0    0    1    0    0    0    0     0     0     0      31\n",
       "NEP     0    0    0    0    0    0   31     0     0     0     146\n",
       "NETE    0    0    0    0    0    0    1     0     0     0     158\n",
       "NETI    0    0    6    0    1    0    0     0     0     0      60\n",
       "NETO    0    0    0    0    1    0    3     0     0     0      36\n",
       "O       0    0   12    0   25    0   14     0     0     0  168246"
      ]
     },
     "execution_count": 8,
     "metadata": {},
     "output_type": "execute_result"
    }
   ],
   "source": [
    "m.evaluate()"
   ]
  },
  {
   "cell_type": "code",
   "execution_count": 12,
   "metadata": {
    "collapsed": false
   },
   "outputs": [
    {
     "name": "stdout",
     "output_type": "stream",
     "text": [
      "इन्होंने/O\n",
      "भारतीय/O\n",
      "आर्य/O\n",
      "भाषा/O\n",
      "तथा/O\n",
      "द्रविड़/O\n",
      "भाषाओं/O\n",
      "का/O\n",
      "व्याकरण/O\n",
      "नामक/O\n",
      "अन्य/O\n",
      "महत्वपूर्ण/O\n",
      "ग्रन्थ/O\n",
      "भी/O\n",
      "लिखे/O\n",
      "हैं/O\n",
      "।/O\n"
     ]
    }
   ],
   "source": [
    "m.predict_tags(\"इन्होंने भारतीय आर्य भाषा तथा द्रविड़ भाषाओं का व्याकरण नामक अन्य महत्वपूर्ण ग्रन्थ भी लिखे हैं ।\")"
   ]
  },
  {
   "cell_type": "code",
   "execution_count": 13,
   "metadata": {
    "collapsed": false
   },
   "outputs": [],
   "source": [
    "m.model.save(\"./first_hindi_model\")"
   ]
  },
  {
   "cell_type": "code",
   "execution_count": null,
   "metadata": {
    "collapsed": true
   },
   "outputs": [],
   "source": [
    "from keras.models import load_model\n",
    "m.model = load_model(\"./first_hindi_model\")"
   ]
  },
  {
   "cell_type": "code",
   "execution_count": null,
   "metadata": {
    "collapsed": false
   },
   "outputs": [],
   "source": [
    "from get_word_vectors import get_word_vector\n",
    "s = get_word_vector(\"द्रविड़\")"
   ]
  }
 ],
 "metadata": {
  "anaconda-cloud": {},
  "kernelspec": {
   "display_name": "Python [conda env:keras_tensorflow]",
   "language": "python",
   "name": "conda-env-keras_tensorflow-py"
  },
  "language_info": {
   "codemirror_mode": {
    "name": "ipython",
    "version": 2
   },
   "file_extension": ".py",
   "mimetype": "text/x-python",
   "name": "python",
   "nbconvert_exporter": "python",
   "pygments_lexer": "ipython2",
   "version": "2.7.13"
  }
 },
 "nbformat": 4,
 "nbformat_minor": 1
}
